{
 "cells": [
  {
   "cell_type": "markdown",
   "id": "solar-maximum",
   "metadata": {},
   "source": [
    "## COUNT VECTORIZER - Real Train & Test"
   ]
  },
  {
   "cell_type": "markdown",
   "id": "physical-walker",
   "metadata": {},
   "source": [
    "### Raw Train & Test DataSet"
   ]
  },
  {
   "cell_type": "code",
   "execution_count": 1,
   "id": "electric-protest",
   "metadata": {},
   "outputs": [],
   "source": [
    "import pandas as pd\n",
    "from sklearn.model_selection import train_test_split\n",
    "from sklearn.feature_extraction.text import CountVectorizer\n",
    "# Test to see approximate accuracy by splitting the training data to train and test data = 7:3\n",
    "\n",
    "train_file = \"./COMP30027_2021_Project2_datasets/recipe_train.csv\"\n",
    "test_file = \"./COMP30027_2021_Project2_datasets/recipe_test.csv\"\n",
    "\n",
    "train_data = pd.read_csv(train_file)\n",
    "X_train = train_data.iloc[:,:-1]\n",
    "y_train = train_data.iloc[:,-1]\n",
    "\n",
    "test_data = pd.read_csv(test_file)\n",
    "X_test = test_data.iloc[:,:]\n"
   ]
  },
  {
   "cell_type": "markdown",
   "id": "southwest-diving",
   "metadata": {},
   "source": [
    "### Count Vectoriser for text features"
   ]
  },
  {
   "cell_type": "code",
   "execution_count": 2,
   "id": "comic-kidney",
   "metadata": {},
   "outputs": [
    {
     "output_type": "stream",
     "name": "stderr",
     "text": [
      "/Users/patriciaangelica/.pyenv/versions/3.7.3/lib/python3.7/site-packages/sklearn/base.py:334: UserWarning: Trying to unpickle estimator CountVectorizer from version 0.21.3 when using version 0.23.1. This might lead to breaking code or invalid results. Use at your own risk.\n",
      "  UserWarning)\n",
      "/Users/patriciaangelica/.pyenv/versions/3.7.3/lib/python3.7/site-packages/sklearn/base.py:334: UserWarning: Trying to unpickle estimator CountVectorizer from version 0.21.3 when using version 0.23.1. This might lead to breaking code or invalid results. Use at your own risk.\n",
      "  UserWarning)\n",
      "/Users/patriciaangelica/.pyenv/versions/3.7.3/lib/python3.7/site-packages/sklearn/base.py:334: UserWarning: Trying to unpickle estimator CountVectorizer from version 0.21.3 when using version 0.23.1. This might lead to breaking code or invalid results. Use at your own risk.\n",
      "  UserWarning)\n"
     ]
    }
   ],
   "source": [
    "import pickle\n",
    "import scipy \n",
    "\n",
    "# Get the sparse matrix of the Bag-of-Word representation of text features for training data\n",
    "\n",
    "# TRAIN & TEST DATASET - NAME\n",
    "name_file = \"./COMP30027_2021_Project2_datasets/recipe_text_features_countvec/train_name_countvectorizer.pkl\"\n",
    "vocab_name = pickle.load(open(name_file, \"rb\"))\n",
    "train_name_matrix = scipy.sparse.load_npz(count_vec_path +'train_name_vec.npz')\n",
    "test_name_matrix = scipy.sparse.load_npz(count_vec_path +'test_name_vec.npz')\n",
    "df_train_name = pd.DataFrame(train_name_matrix.todense(),columns = vocab_name.get_feature_names())\n",
    "df_test_name = pd.DataFrame(test_name_matrix.todense(),columns = vocab_name.get_feature_names())\n",
    "\n",
    "# TRAIN & TEST DATASET - STEPS\n",
    "steps_file = \"./COMP30027_2021_Project2_datasets/recipe_text_features_countvec/train_steps_countvectorizer.pkl\"\n",
    "vocab_steps = pickle.load(open(steps_file, \"rb\"))\n",
    "train_steps_matrix = scipy.sparse.load_npz(count_vec_path +'train_steps_vec.npz')\n",
    "test_steps_matrix = scipy.sparse.load_npz(count_vec_path +'test_steps_vec.npz')\n",
    "df_train_steps = pd.DataFrame(train_steps_matrix.todense(),columns = vocab_steps.get_feature_names())\n",
    "df_test_steps = pd.DataFrame(test_steps_matrix.todense(),columns = vocab_steps.get_feature_names())\n",
    "\n",
    "# TRAIN & TEST DATASET- INGREDIENTS\n",
    "ingr_file = \"./COMP30027_2021_Project2_datasets/recipe_text_features_countvec/train_ingr_countvectorizer.pkl\"\n",
    "vocab_ingr = pickle.load(open(ingr_file, \"rb\"))\n",
    "train_ingr_matrix = scipy.sparse.load_npz(count_vec_path +'train_ingr_vec.npz')\n",
    "test_ingr_matrix = scipy.sparse.load_npz(count_vec_path +'test_ingr_vec.npz')\n",
    "df_train_ingr = pd.DataFrame(train_ingr_matrix.todense(),columns = vocab_ingr.get_feature_names())\n",
    "df_test_ingr = pd.DataFrame(test_ingr_matrix.todense(),columns = vocab_ingr.get_feature_names())\n",
    "\n",
    "# TRAIN & TEST DATASET- N_STEPS\n",
    "train_n_steps = pd.DataFrame(X_train.n_steps)\n",
    "train_n_steps.reset_index(drop=True, inplace=True)\n",
    "test_n_steps = pd.DataFrame(X_test.n_steps)\n",
    "test_n_steps.reset_index(drop=True, inplace=True)\n",
    "\n",
    "# TRAIN & TEST DATASET- N_INGREDIENTS\n",
    "train_n_ingredients = pd.DataFrame(X_train.n_ingredients)\n",
    "train_n_ingredients.reset_index(drop=True, inplace=True)\n",
    "test_n_ingredients = pd.DataFrame(X_test.n_ingredients)\n",
    "test_n_ingredients.reset_index(drop=True, inplace=True)\n",
    "\n",
    "# STILL USING ALL FEATURES AND THEIR MATRICES\n",
    "train = pd.concat([df_train_name,df_train_steps,df_train_ingr,train_n_steps,train_n_ingredients],axis=1)\n",
    "test = pd.concat([df_test_name,df_test_steps,df_test_ingr,test_n_steps,test_n_ingredients],axis=1)\n"
   ]
  },
  {
   "cell_type": "code",
   "execution_count": 3,
   "id": "fabulous-ladder",
   "metadata": {},
   "outputs": [],
   "source": [
    "#STACKING FROM W8 Prac\n",
    "from sklearn.metrics import accuracy_score\n",
    "import numpy as np\n",
    "np.random.seed(1)\n",
    "\n",
    "class StackingClassifier():\n",
    "\n",
    "    def __init__(self, classifiers, metaclassifier):\n",
    "        self.classifiers = classifiers\n",
    "        self.metaclassifier = metaclassifier\n",
    "\n",
    "    def fit(self, X, y):\n",
    "        for clf in self.classifiers:\n",
    "            clf.fit(X, y)\n",
    "        X_meta = self._predict_base(X)\n",
    "        self.metaclassifier.fit(X_meta, y)\n",
    "    \n",
    "    def _predict_base(self, X):\n",
    "        yhats = []\n",
    "        for clf in self.classifiers:\n",
    "            yhat = clf.predict_proba(X)\n",
    "            yhats.append(yhat)\n",
    "        yhats = np.concatenate(yhats, axis=1)\n",
    "        assert yhats.shape[0] == X.shape[0]\n",
    "        return yhats\n",
    "    \n",
    "    def predict(self, X):\n",
    "        X_meta = self._predict_base(X)     \n",
    "        yhat = self.metaclassifier.predict(X_meta)\n",
    "        return yhat\n",
    "    def score(self, X, y):\n",
    "        yhat = self.predict(X)\n",
    "        return accuracy_score(y, yhat)\n",
    "    \n"
   ]
  },
  {
   "cell_type": "markdown",
   "id": "sublime-advocacy",
   "metadata": {},
   "source": [
    "### Individual Classifiers - Full features"
   ]
  },
  {
   "cell_type": "code",
   "execution_count": null,
   "id": "julian-uncertainty",
   "metadata": {},
   "outputs": [],
   "source": [
    "# Predict using each individual classifiers\n",
    "from sklearn import svm\n",
    "from sklearn.naive_bayes import GaussianNB, MultinomialNB\n",
    "from sklearn.neighbors import KNeighborsClassifier\n",
    "from sklearn.tree import DecisionTreeClassifier\n",
    "from sklearn.linear_model import LogisticRegression\n",
    "import time\n",
    "from time import ctime\n",
    "\n",
    "models = [GaussianNB(),\n",
    "          MultinomialNB(),\n",
    "          svm.LinearSVC(),\n",
    "          DecisionTreeClassifier(),\n",
    "          LogisticRegression()]\n",
    "titles = ['GNB',\n",
    "          'MNB',\n",
    "          'LinearSVC',\n",
    "          'Decision Tree',\n",
    "          'Logistic Regression']\n",
    "\n",
    "for title, model in zip(titles, models):\n",
    "    print(title)\n",
    "    start = time.time()\n",
    "    print(\"START \",start)\n",
    "    model.fit(train,y_train)\n",
    "    result = model.predict(test)\n",
    "    end = time.time()\n",
    "    print(\"END \",end)\n",
    "    t = end - start\n",
    "    print(title,'Time:', t,\" s\")\n",
    "    df_res_full = pd.DataFrame(result, columns = ['duration_label'])\n",
    "    df_res_full.index = df_res_full.index + 1\n",
    "    df_res_full.index.name='id'\n",
    "    df_res_full.to_csv('df_CV_res_'+title+'_full.csv')\n",
    "    "
   ]
  },
  {
   "source": [
    "### STACKING"
   ],
   "cell_type": "markdown",
   "metadata": {}
  },
  {
   "cell_type": "code",
   "execution_count": null,
   "metadata": {},
   "outputs": [],
   "source": [
    "from sklearn import svm\n",
    "from sklearn.naive_bayes import GaussianNB, MultinomialNB\n",
    "from sklearn.neighbors import KNeighborsClassifier\n",
    "from sklearn.tree import DecisionTreeClassifier\n",
    "from sklearn.linear_model import LogisticRegression\n"
   ]
  },
  {
   "cell_type": "code",
   "execution_count": null,
   "id": "consolidated-isaac",
   "metadata": {},
   "outputs": [],
   "source": [
    "# Predict using Stacking \n",
    "# Base Classifiers : Multinomial Naive Bayes + Decision Tree\n",
    "# Meta Classifier : Logistic Regression\n",
    "\n",
    "classifiers = [MultinomialNB(),\n",
    "                DecisionTreeClassifier()]\n",
    "\n",
    "titles = ['MNB',\n",
    "           'Decision Tree']\n",
    "\n",
    "meta_classifier_lr = LogisticRegression()\n",
    "stacker_lr = StackingClassifier(classifiers, meta_classifier_lr)\n",
    "\n",
    "start = time.time()\n",
    "print(\"Meta learner: Logistic Regression - Start\",start)\n",
    "stacker_lr.fit(train, y_train)\n",
    "stacker_lr_res = stacker_lr.predict(test)\n",
    "end = time.time()\n",
    "print(\"Meta learner: Logistic Regression - End \",end)\n",
    "t = end - start\n",
    "print('Time:', t,\" s\")\n",
    "df_res = pd.DataFrame(stacker_lr_res, columns = ['duration_label'])\n",
    "df_res.index = df_res.index + 1\n",
    "df_res.index.name='id'\n",
    "df_res.to_csv('df_CV_stack1_Log_Reg.csv')\n",
    "\n"
   ]
  },
  {
   "cell_type": "code",
   "execution_count": 7,
   "metadata": {},
   "outputs": [
    {
     "output_type": "stream",
     "name": "stdout",
     "text": [
      "Meta learner: Logistic Regression - Start  1621480133.683062\n"
     ]
    }
   ],
   "source": [
    "# Meta Learner : Logistic Regression \n",
    "# Base Learners : DT + MNB + LogReg\n",
    "\n",
    "classifiers = [MultinomialNB(),\n",
    "                DecisionTreeClassifier(),\n",
    "                LogisticRegression()]\n",
    "\n",
    "titles = ['MNB',\n",
    "          'Decision Tree',\n",
    "          'Logistic Regression']\n",
    "\n",
    "meta_classifier_lr = LogisticRegression()\n",
    "stacker_lr = StackingClassifier(classifiers, meta_classifier_lr)\n",
    "start = time.time()\n",
    "print(\"Meta learner: Logistic Regression - Start \",start)\n",
    "stacker_lr.fit(train, y_train)\n",
    "stacker_lr_res = stacker_lr.predict(test)\n",
    "end = time.time()\n",
    "print(\"Meta learner: Logistic Regression - End \",end)\n",
    "df_res = pd.DataFrame(stacker_lr_res, columns = ['duration_label'])\n",
    "df_res.index = df_res.index + 1\n",
    "df_res.index.name='id'\n",
    "df_res.to_csv('df_CV_stack2_Log_Reg.csv')\n"
   ]
  },
  {
   "source": [
    "### CHI SQUARE , K=1000"
   ],
   "cell_type": "markdown",
   "metadata": {}
  },
  {
   "cell_type": "code",
   "execution_count": 8,
   "id": "traditional-circulation",
   "metadata": {},
   "outputs": [
    {
     "output_type": "stream",
     "name": "stdout",
     "text": [
      "start  1621483534.493375\n",
      "end  1621483583.506072\n",
      "time:  49.012696981430054\n"
     ]
    }
   ],
   "source": [
    "# KBEST -chi2\n",
    "from sklearn import svm\n",
    "from sklearn.naive_bayes import GaussianNB, MultinomialNB\n",
    "from sklearn.neighbors import KNeighborsClassifier\n",
    "from sklearn.tree import DecisionTreeClassifier\n",
    "from sklearn.linear_model import LogisticRegression\n",
    "from sklearn.feature_selection import SelectKBest, chi2\n",
    "import time\n",
    "from time import ctime\n",
    "\n",
    "start = time.time()\n",
    "print(\"start \",start)\n",
    "kbest_chi2 = SelectKBest(chi2, k=1000).fit(train, y_train)\n",
    "X_train_kbest_chi2 = kbest_chi2.transform(train)\n",
    "X_test_kbest_chi2 = kbest_chi2.transform(test)\n",
    "end= time.time()\n",
    "print(\"end \",end)\n",
    "print(\"time: \",end-start)\n"
   ]
  },
  {
   "source": [
    "### Individual Classifiers"
   ],
   "cell_type": "markdown",
   "metadata": {}
  },
  {
   "cell_type": "code",
   "execution_count": 11,
   "id": "pregnant-palestine",
   "metadata": {},
   "outputs": [
    {
     "name": "stdout",
     "output_type": "stream",
     "text": [
      "MNB\n",
      "START  1621402253.2543108\n",
      "END  1621402253.6907241\n",
      "MNB Time: 0.4364132881164551  s\n",
      "LinearSVC\n",
      "START  1621402253.770417\n"
     ]
    },
    {
     "name": "stderr",
     "output_type": "stream",
     "text": [
      "/Users/patriciaangelica/.pyenv/versions/3.7.3/lib/python3.7/site-packages/sklearn/svm/_base.py:977: ConvergenceWarning: Liblinear failed to converge, increase the number of iterations.\n",
      "  \"the number of iterations.\", ConvergenceWarning)\n"
     ]
    },
    {
     "name": "stdout",
     "output_type": "stream",
     "text": [
      "END  1621402280.263106\n",
      "LinearSVC Time: 26.49268913269043  s\n",
      "Decision Tree\n",
      "START  1621402280.296611\n",
      "END  1621402289.7775822\n",
      "Decision Tree Time: 9.480971097946167  s\n",
      "Logistic Regression\n",
      "START  1621402289.8047051\n",
      "END  1621402299.612122\n",
      "Logistic Regression Time: 9.807416915893555  s\n"
     ]
    },
    {
     "name": "stderr",
     "output_type": "stream",
     "text": [
      "/Users/patriciaangelica/.pyenv/versions/3.7.3/lib/python3.7/site-packages/sklearn/linear_model/_logistic.py:764: ConvergenceWarning: lbfgs failed to converge (status=1):\n",
      "STOP: TOTAL NO. of ITERATIONS REACHED LIMIT.\n",
      "\n",
      "Increase the number of iterations (max_iter) or scale the data as shown in:\n",
      "    https://scikit-learn.org/stable/modules/preprocessing.html\n",
      "Please also refer to the documentation for alternative solver options:\n",
      "    https://scikit-learn.org/stable/modules/linear_model.html#logistic-regression\n",
      "  extra_warning_msg=_LOGISTIC_SOLVER_CONVERGENCE_MSG)\n"
     ]
    }
   ],
   "source": [
    "\n",
    "models = [MultinomialNB(),\n",
    "          svm.LinearSVC(),\n",
    "          DecisionTreeClassifier(),\n",
    "          LogisticRegression()]\n",
    "titles = ['MNB',\n",
    "          'LinearSVC',\n",
    "          'Decision Tree',\n",
    "          'Logistic Regression']\n",
    "\n",
    "for title, model in zip(titles, models):\n",
    "    print(title)\n",
    "    start = time.time()\n",
    "    print(\"START \",start)\n",
    "    model.fit(X_train_kbest_chi2,y_train)\n",
    "    result = model.predict(X_test_kbest_chi2)\n",
    "    end = time.time()\n",
    "    print(\"END \",end)\n",
    "    t = end - start\n",
    "    print(title,'Time:', t,\" s\")\n",
    "    df_res_full = pd.DataFrame(result, columns = ['duration_label'])\n",
    "    df_res_full.index = df_res_full.index + 1\n",
    "    df_res_full.index.name='id'\n",
    "    df_res_full.to_csv('df_CV_res_chi2_'+title+'_full.csv')\n",
    "\n"
   ]
  },
  {
   "source": [
    "### Stacking - Chi^2"
   ],
   "cell_type": "markdown",
   "metadata": {}
  },
  {
   "cell_type": "code",
   "execution_count": 10,
   "id": "gross-universe",
   "metadata": {},
   "outputs": [
    {
     "output_type": "stream",
     "name": "stdout",
     "text": [
      "START meta learner: Logistic Regression  1621483605.00847\n",
      "END meta learner: Logistic Regression  1621483616.383765\n",
      "Time: 11.375294923782349  s\n"
     ]
    }
   ],
   "source": [
    "# Meta Learner : Logistic Regression \n",
    "# Base Learners : DT + MNB \n",
    "\n",
    "classifiers = [MultinomialNB(),\n",
    "          DecisionTreeClassifier()]\n",
    "\n",
    "titles = ['MNB',\n",
    "          'Decision Tree']\n",
    "\n",
    "meta_classifier_lr = LogisticRegression()\n",
    "stacker_lr1= StackingClassifier(classifiers, meta_classifier_lr)\n",
    "\n",
    "start = time.time()\n",
    "print(\"START meta learner: Logistic Regression \",start)\n",
    "stacker_lr.fit(X_train_kbest_chi2, y_train)\n",
    "stacker_lr_res= stacker_lr.predict(X_test_kbest_chi2)\n",
    "end = time.time()\n",
    "print(\"END meta learner: Logistic Regression \",end)\n",
    "t = end - start\n",
    "print('Time:', t,\" s\")\n",
    "df_res = pd.DataFrame(stacker_lr_res, columns = ['duration_label'])\n",
    "df_res.index = df_res.index + 1\n",
    "df_res.index.name='id'\n",
    "df_res.to_csv('df_CV_chi2_stack1_Log_Reg.csv')\n",
    "\n"
   ]
  },
  {
   "cell_type": "code",
   "execution_count": 12,
   "metadata": {},
   "outputs": [
    {
     "output_type": "stream",
     "name": "stdout",
     "text": [
      "Meta learner: Logistic Regression - Start  1621484149.660085\n",
      "/Users/patriciaangelica/.pyenv/versions/3.7.3/lib/python3.7/site-packages/sklearn/linear_model/_logistic.py:764: ConvergenceWarning: lbfgs failed to converge (status=1):\n",
      "STOP: TOTAL NO. of ITERATIONS REACHED LIMIT.\n",
      "\n",
      "Increase the number of iterations (max_iter) or scale the data as shown in:\n",
      "    https://scikit-learn.org/stable/modules/preprocessing.html\n",
      "Please also refer to the documentation for alternative solver options:\n",
      "    https://scikit-learn.org/stable/modules/linear_model.html#logistic-regression\n",
      "  extra_warning_msg=_LOGISTIC_SOLVER_CONVERGENCE_MSG)\n",
      "Meta learner: Logistic Regression - End  1621484174.799222\n"
     ]
    }
   ],
   "source": [
    "# Meta Learner : Logistic Regression \n",
    "# Base Learners : DT + MNB + LogReg\n",
    "\n",
    "classifiers = [MultinomialNB(),\n",
    "                DecisionTreeClassifier(),\n",
    "                LogisticRegression()]\n",
    "\n",
    "titles = ['MNB',\n",
    "          'Decision Tree',\n",
    "          'Logistic Regression']\n",
    "\n",
    "meta_classifier_lr = LogisticRegression()\n",
    "stacker_lr = StackingClassifier(classifiers, meta_classifier_lr)\n",
    "start = time.time()\n",
    "print(\"Meta learner: Logistic Regression - Start \",start)\n",
    "stacker_lr.fit(X_train_kbest_chi2, y_train)\n",
    "stacker_lr_res = stacker_lr.predict(X_test_kbest_chi2)\n",
    "end = time.time()\n",
    "print(\"Meta learner: Logistic Regression - End \",end)\n",
    "df_res = pd.DataFrame(stacker_lr_res, columns = ['duration_label'])\n",
    "df_res.index = df_res.index + 1\n",
    "df_res.index.name='id'\n",
    "df_res.to_csv('df_CV_chi2_stack2_Log_Reg.csv')\n"
   ]
  }
 ],
 "metadata": {
  "kernelspec": {
   "name": "python373jvsc74a57bd0d1736c05fe10e97bff6b3f226078a77ebc9caa91540e72cc2b3b64c309fda00b",
   "display_name": "Python 3.7.3 64-bit ('3.7.3': pyenv)"
  },
  "language_info": {
   "codemirror_mode": {
    "name": "ipython",
    "version": 3
   },
   "file_extension": ".py",
   "mimetype": "text/x-python",
   "name": "python",
   "nbconvert_exporter": "python",
   "pygments_lexer": "ipython3",
   "version": "3.7.3"
  }
 },
 "nbformat": 4,
 "nbformat_minor": 5
}