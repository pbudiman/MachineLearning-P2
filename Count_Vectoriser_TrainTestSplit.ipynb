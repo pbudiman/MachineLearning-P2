{
 "cells": [
  {
   "cell_type": "markdown",
   "id": "loose-monday",
   "metadata": {},
   "source": [
    "## Count Vectoriser \n",
    "#### Train Test Split on recipe_train.csv"
   ]
  },
  {
   "cell_type": "code",
   "execution_count": 1,
   "id": "systematic-northern",
   "metadata": {},
   "outputs": [
    {
     "output_type": "stream",
     "name": "stdout",
     "text": [
      "(26800, 5)\n"
     ]
    }
   ],
   "source": [
    "import pandas as pd\n",
    "from sklearn.model_selection import train_test_split\n",
    "from sklearn.feature_extraction.text import CountVectorizer\n",
    "\n",
    "# Test to see approximate accuracy by splitting the training data to train and test data = 7:3\n",
    "train_file = \"./COMP30027_2021_Project2_datasets/recipe_train.csv\"\n",
    "train_data = pd.read_csv(train_file)\n",
    "X_train_raw = train_data.iloc[:,:-1]\n",
    "y_train_raw = train_data.iloc[:,-1]\n",
    "X_train, X_test, y_train, y_test = train_test_split(X_train_raw,y_train_raw,test_size=0.33)\n",
    "\n",
    "train_n_steps = pd.DataFrame(X_train.n_steps)\n",
    "train_n_steps.reset_index(drop=True, inplace=True)\n",
    "test_n_steps = pd.DataFrame(X_test.n_steps)\n",
    "test_n_steps.reset_index(drop=True, inplace=True)\n",
    "\n",
    "train_n_ingredients = pd.DataFrame(X_train.n_ingredients)\n",
    "train_n_ingredients.reset_index(drop=True, inplace=True)\n",
    "test_n_ingredients = pd.DataFrame(X_test.n_ingredients)\n",
    "test_n_ingredients.reset_index(drop=True, inplace=True)\n",
    "\n",
    "# count vectorizer on feature 'name'\n",
    "vec = CountVectorizer(stop_words='english')\n",
    "X_train_name = vec.fit_transform(X_train.name)\n",
    "X_test_name = vec.transform(X_test.name)\n",
    "df_train_name = pd.DataFrame(X_train_name.todense(),columns = vec.get_feature_names())\n",
    "df_test_name = pd.DataFrame(X_test_name.todense(),columns = vec.get_feature_names())\n",
    "print(X_train.shape)\n",
    "# count vectorizer on feature 'steps'\n",
    "X_train_steps = vec.fit_transform(X_train.steps)\n",
    "X_test_steps = vec.transform(X_test.steps)\n",
    "df_train_steps = pd.DataFrame(X_train_steps.todense(),columns = vec.get_feature_names())\n",
    "df_test_steps = pd.DataFrame(X_test_steps.todense(),columns = vec.get_feature_names())\n",
    "\n",
    "\n",
    "# count vectorizer on feature 'ingredients'\n",
    "X_train_ing = vec.fit_transform(X_train.ingredients)\n",
    "X_test_ing = vec.transform(X_test.ingredients)\n",
    "df_train_ing = pd.DataFrame(X_train_ing.todense(),columns = vec.get_feature_names())\n",
    "df_test_ing = pd.DataFrame(X_test_ing.todense(),columns = vec.get_feature_names())\n",
    "\n",
    "# put all into one dataframe\n",
    "train = pd.concat([df_train_name, df_train_steps,df_train_ing,train_n_steps,train_n_ingredients],axis=1)\n",
    "test = pd.concat([df_test_name, df_test_steps,df_test_ing,test_n_steps,test_n_ingredients],axis=1)\n"
   ]
  },
  {
   "cell_type": "markdown",
   "id": "close-convenience",
   "metadata": {},
   "source": [
    "### Individual Classifiers -  All Features"
   ]
  },
  {
   "cell_type": "code",
   "execution_count": 3,
   "id": "constitutional-ethiopia",
   "metadata": {},
   "outputs": [
    {
     "output_type": "stream",
     "name": "stdout",
     "text": [
      "MNB\n",
      "START  1621520937.364806\n",
      "END  1621520993.1415749\n",
      "MNB Accuracy: 0.7367424242424242 Time: 55.776768922805786  s\n",
      "Decision Tree\n",
      "START  1621520993.1725829\n",
      "END  1621521053.054741\n",
      "Decision Tree Accuracy: 0.7359848484848485 Time: 59.882158041000366  s\n",
      "Logistic Regression\n",
      "START  1621521053.055784\n",
      "/Users/patriciaangelica/.pyenv/versions/3.7.3/lib/python3.7/site-packages/sklearn/linear_model/_logistic.py:764: ConvergenceWarning: lbfgs failed to converge (status=1):\n",
      "STOP: TOTAL NO. of ITERATIONS REACHED LIMIT.\n",
      "\n",
      "Increase the number of iterations (max_iter) or scale the data as shown in:\n",
      "    https://scikit-learn.org/stable/modules/preprocessing.html\n",
      "Please also refer to the documentation for alternative solver options:\n",
      "    https://scikit-learn.org/stable/modules/linear_model.html#logistic-regression\n",
      "  extra_warning_msg=_LOGISTIC_SOLVER_CONVERGENCE_MSG)\n",
      "END  1621521687.560044\n",
      "Logistic Regression Accuracy: 0.7834090909090909 Time: 634.5042600631714  s\n"
     ]
    }
   ],
   "source": [
    "from sklearn.naive_bayes import MultinomialNB\n",
    "from sklearn.tree import DecisionTreeClassifier\n",
    "from sklearn.linear_model import LogisticRegression\n",
    "import time\n",
    "from time import ctime\n",
    "\n",
    "models = [MultinomialNB(),\n",
    "          DecisionTreeClassifier(),\n",
    "          LogisticRegression()]\n",
    "\n",
    "titles = ['MNB',\n",
    "          'Decision Tree',\n",
    "          'Logistic Regression']\n",
    "\n",
    "for title, model in zip(titles, models):\n",
    "    print(title)\n",
    "    start = time.time()\n",
    "    print(\"START \",start)\n",
    "    model.fit(train,y_train)\n",
    "    acc = model.score(test,y_test)\n",
    "    end = time.time()\n",
    "    print(\"END \",end)\n",
    "    t = end - start\n",
    "    print(title, \"Accuracy:\",acc, 'Time:', t,\" s\")\n"
   ]
  },
  {
   "cell_type": "markdown",
   "id": "southern-aluminum",
   "metadata": {},
   "source": [
    "### Stacking - All Features"
   ]
  },
  {
   "cell_type": "code",
   "execution_count": 3,
   "metadata": {},
   "outputs": [
    {
     "output_type": "stream",
     "name": "stdout",
     "text": [
      "Accuracy  0.761439393939394\n"
     ]
    }
   ],
   "source": [
    "\n",
    "from sklearn.naive_bayes import MultinomialNB\n",
    "from sklearn.tree import DecisionTreeClassifier\n",
    "from sklearn.linear_model import LogisticRegression\n",
    "from sklearn.ensemble import StackingClassifier\n",
    "classifiers = [('MNB',MultinomialNB()),('DT',DecisionTreeClassifier())]\n",
    "stack_clf = StackingClassifier(estimators=classifiers, final_estimator=LogisticRegression(),cv=5).fit(train, y_train)\n",
    "acc = stack_clf.score(test,y_test)\n",
    "print(\"Accuracy \",acc)\n"
   ]
  },
  {
   "cell_type": "markdown",
   "id": "assured-apparel",
   "metadata": {},
   "source": [
    "### CHI SQUARE , K=1000"
   ]
  },
  {
   "cell_type": "code",
   "execution_count": 4,
   "id": "indian-soundtrack",
   "metadata": {},
   "outputs": [],
   "source": [
    "from sklearn.feature_selection import SelectKBest, chi2\n",
    "import time\n",
    "from time import ctime\n",
    "\n",
    "kbest_chi2 = SelectKBest(chi2, k=1000).fit(train, y_train)\n",
    "X_train_kbest_chi2 = kbest_chi2.transform(train)\n",
    "X_test_kbest_chi2 = kbest_chi2.transform(test)\n"
   ]
  },
  {
   "source": [
    "### Individual Classifiers - CHI SQUARE, K=1000"
   ],
   "cell_type": "markdown",
   "metadata": {}
  },
  {
   "cell_type": "code",
   "execution_count": 8,
   "id": "floppy-flesh",
   "metadata": {},
   "outputs": [
    {
     "output_type": "stream",
     "name": "stdout",
     "text": [
      "MNB\n",
      "START  1621522124.055912\n",
      "END  1621522124.6218119\n",
      "MNB Accuracy: 0.7037121212121212 Time: 0.5658998489379883  s\n",
      "Decision Tree\n",
      "START  1621522124.6220741\n",
      "END  1621522129.750012\n",
      "Decision Tree Accuracy: 0.7284848484848485 Time: 5.1279377937316895  s\n",
      "Logistic Regression\n",
      "START  1621522129.750186\n",
      "END  1621522136.7990458\n",
      "Logistic Regression Accuracy: 0.7972727272727272 Time: 7.0488598346710205  s\n",
      "/Users/patriciaangelica/.pyenv/versions/3.7.3/lib/python3.7/site-packages/sklearn/linear_model/_logistic.py:764: ConvergenceWarning: lbfgs failed to converge (status=1):\n",
      "STOP: TOTAL NO. of ITERATIONS REACHED LIMIT.\n",
      "\n",
      "Increase the number of iterations (max_iter) or scale the data as shown in:\n",
      "    https://scikit-learn.org/stable/modules/preprocessing.html\n",
      "Please also refer to the documentation for alternative solver options:\n",
      "    https://scikit-learn.org/stable/modules/linear_model.html#logistic-regression\n",
      "  extra_warning_msg=_LOGISTIC_SOLVER_CONVERGENCE_MSG)\n"
     ]
    }
   ],
   "source": [
    "from sklearn.naive_bayes import MultinomialNB\n",
    "from sklearn.tree import DecisionTreeClassifier\n",
    "from sklearn.linear_model import LogisticRegression\n",
    "\n",
    "models = [MultinomialNB(),\n",
    "          DecisionTreeClassifier(),\n",
    "          LogisticRegression()]\n",
    "\n",
    "titles = ['MNB',\n",
    "          'Decision Tree',\n",
    "          'Logistic Regression']\n",
    "\n",
    "for title, model in zip(titles, models):\n",
    "    print(title)\n",
    "    start = time.time()\n",
    "    print(\"START \",start)\n",
    "    model.fit(X_train_kbest_chi2,y_train)\n",
    "    acc = model.score(X_test_kbest_chi2,y_test)\n",
    "    end = time.time()\n",
    "    print(\"END \",end)\n",
    "    t = end - start\n",
    "    print(title, \"Accuracy:\",acc, 'Time:', t,\" s\")\n"
   ]
  },
  {
   "source": [
    "### Stacking - CHI SQUARE, K=1000"
   ],
   "cell_type": "markdown",
   "metadata": {}
  },
  {
   "cell_type": "code",
   "execution_count": 5,
   "metadata": {},
   "outputs": [
    {
     "output_type": "stream",
     "name": "stdout",
     "text": [
      "Accuracy  0.751969696969697\n"
     ]
    }
   ],
   "source": [
    "from sklearn.naive_bayes import MultinomialNB\n",
    "from sklearn.tree import DecisionTreeClassifier\n",
    "from sklearn.linear_model import LogisticRegression\n",
    "from sklearn.ensemble import StackingClassifier\n",
    "classifiers = [('MNB',MultinomialNB()),('DT',DecisionTreeClassifier())]\n",
    "stack_clf = StackingClassifier(estimators=classifiers, final_estimator=LogisticRegression(),cv=5).fit(X_train_kbest_chi2, y_train)\n",
    "acc = stack_clf.score(X_test_kbest_chi2,y_test)\n",
    "print(\"Accuracy \",acc)"
   ]
  }
 ],
 "metadata": {
  "kernelspec": {
   "name": "python373jvsc74a57bd0d1736c05fe10e97bff6b3f226078a77ebc9caa91540e72cc2b3b64c309fda00b",
   "display_name": "Python 3.7.3 64-bit ('3.7.3': pyenv)"
  },
  "language_info": {
   "codemirror_mode": {
    "name": "ipython",
    "version": 3
   },
   "file_extension": ".py",
   "mimetype": "text/x-python",
   "name": "python",
   "nbconvert_exporter": "python",
   "pygments_lexer": "ipython3",
   "version": "3.7.3"
  }
 },
 "nbformat": 4,
 "nbformat_minor": 5
}