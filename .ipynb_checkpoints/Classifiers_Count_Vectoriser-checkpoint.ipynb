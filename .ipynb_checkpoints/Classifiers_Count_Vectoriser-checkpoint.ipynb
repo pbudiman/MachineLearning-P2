{
 "cells": [
  {
   "cell_type": "markdown",
   "id": "solar-maximum",
   "metadata": {},
   "source": [
    "## COUNT VECTORIZER"
   ]
  },
  {
   "cell_type": "code",
   "execution_count": 1,
   "id": "electric-protest",
   "metadata": {},
   "outputs": [],
   "source": [
    "import pandas as pd\n",
    "from sklearn.model_selection import train_test_split\n",
    "from sklearn.feature_extraction.text import CountVectorizer\n",
    "# Test to see approximate accuracy by splitting the training data to train and test data = 7:3\n",
    "\n",
    "train_data = pd.read_csv(\"recipe_train.csv\")\n",
    "X_train = train_data.iloc[:,:-1]\n",
    "y_train = train_data.iloc[:,-1]\n",
    "\n",
    "test_data = pd.read_csv(\"recipe_test.csv\")\n",
    "X_test = test_data.iloc[:,:]\n"
   ]
  },
  {
   "cell_type": "code",
   "execution_count": 2,
   "id": "comic-kidney",
   "metadata": {},
   "outputs": [
    {
     "name": "stderr",
     "output_type": "stream",
     "text": [
      "/Users/patriciaangelica/.pyenv/versions/3.7.3/lib/python3.7/site-packages/sklearn/base.py:334: UserWarning: Trying to unpickle estimator CountVectorizer from version 0.21.3 when using version 0.23.1. This might lead to breaking code or invalid results. Use at your own risk.\n",
      "  UserWarning)\n",
      "/Users/patriciaangelica/.pyenv/versions/3.7.3/lib/python3.7/site-packages/sklearn/base.py:334: UserWarning: Trying to unpickle estimator CountVectorizer from version 0.21.3 when using version 0.23.1. This might lead to breaking code or invalid results. Use at your own risk.\n",
      "  UserWarning)\n",
      "/Users/patriciaangelica/.pyenv/versions/3.7.3/lib/python3.7/site-packages/sklearn/base.py:334: UserWarning: Trying to unpickle estimator CountVectorizer from version 0.21.3 when using version 0.23.1. This might lead to breaking code or invalid results. Use at your own risk.\n",
      "  UserWarning)\n"
     ]
    }
   ],
   "source": [
    "import pickle\n",
    "import scipy \n",
    "\n",
    "base_path = \"./COMP30027_2021_Project2_datasets/recipe_text_features_countvec/\"\n",
    "name_file = base_path + \"/train_name_countvectorizer.pkl\"\n",
    "\n",
    "# TRAIN & TEST DATASET - NAME\n",
    "vocab_name = pickle.load(open(name_file, \"rb\"))\n",
    "train_name_matrix = scipy.sparse.load_npz(base_path +'train_name_vec.npz')\n",
    "test_name_matrix = scipy.sparse.load_npz(base_path +'test_name_vec.npz')\n",
    "df_train_name = pd.DataFrame(train_name_matrix.todense(),columns = vocab_name.get_feature_names())\n",
    "df_test_name = pd.DataFrame(test_name_matrix.todense(),columns = vocab_name.get_feature_names())\n",
    "\n",
    "# TRAIN & TEST DATASET - STEPS\n",
    "steps_file = base_path +\"train_steps_countvectorizer.pkl\"\n",
    "vocab_steps = pickle.load(open(steps_file, \"rb\"))\n",
    "train_steps_matrix = scipy.sparse.load_npz(base_path +'train_steps_vec.npz')\n",
    "test_steps_matrix = scipy.sparse.load_npz(base_path +'test_steps_vec.npz')\n",
    "df_train_steps = pd.DataFrame(train_steps_matrix.todense(),columns = vocab_steps.get_feature_names())\n",
    "df_test_steps = pd.DataFrame(test_steps_matrix.todense(),columns = vocab_steps.get_feature_names())\n",
    "\n",
    "# TRAIN & TEST DATASET- INGREDIENTS\n",
    "ingr_file = base_path + \"train_ingr_countvectorizer.pkl\"\n",
    "vocab_ingr = pickle.load(open(ingr_file, \"rb\"))\n",
    "train_ingr_matrix = scipy.sparse.load_npz(base_path +'train_ingr_vec.npz')\n",
    "test_ingr_matrix = scipy.sparse.load_npz(base_path +'test_ingr_vec.npz')\n",
    "df_train_ingr = pd.DataFrame(train_ingr_matrix.todense(),columns = vocab_ingr.get_feature_names())\n",
    "df_test_ingr = pd.DataFrame(test_ingr_matrix.todense(),columns = vocab_ingr.get_feature_names())\n",
    "\n",
    "# TRAIN & TEST DATASET- N_STEPS\n",
    "train_n_steps = pd.DataFrame(X_train.n_steps)\n",
    "train_n_steps.reset_index(drop=True, inplace=True)\n",
    "test_n_steps = pd.DataFrame(X_test.n_steps)\n",
    "test_n_steps.reset_index(drop=True, inplace=True)\n",
    "\n",
    "# TRAIN & TEST DATASET- N_INGREDIENTS\n",
    "train_n_ingredients = pd.DataFrame(X_train.n_ingredients)\n",
    "train_n_ingredients.reset_index(drop=True, inplace=True)\n",
    "test_n_ingredients = pd.DataFrame(X_test.n_ingredients)\n",
    "test_n_ingredients.reset_index(drop=True, inplace=True)\n",
    "\n",
    "# STILL USING ALL FEATURES AND THEIR MATRICES\n",
    "train = pd.concat([df_train_name,df_train_steps,df_train_ingr,train_n_steps,train_n_ingredients],axis=1)\n",
    "test = pd.concat([df_test_name,df_test_steps,df_test_ingr,test_n_steps,test_n_ingredients],axis=1)\n",
    "\n",
    "\n",
    "# print(\"TRAIN\")\n",
    "# print(train)\n",
    "# print(\"TRAIN\")\n",
    "# print(test)\n"
   ]
  },
  {
   "cell_type": "code",
   "execution_count": 6,
   "id": "pregnant-palestine",
   "metadata": {},
   "outputs": [
    {
     "name": "stdout",
     "output_type": "stream",
     "text": [
      "GNB\n",
      "START  1621317778.811188\n",
      "END  1621317985.387554\n",
      "GNB Time: 206.5763659477234  s\n",
      "MNB\n",
      "START  1621317985.685405\n",
      "END  1621318023.852261\n",
      "MNB Time: 38.16685605049133  s\n",
      "LinearSVC\n",
      "START  1621318023.8911371\n"
     ]
    },
    {
     "name": "stderr",
     "output_type": "stream",
     "text": [
      "/Users/patriciaangelica/.pyenv/versions/3.7.3/lib/python3.7/site-packages/sklearn/svm/_base.py:977: ConvergenceWarning: Liblinear failed to converge, increase the number of iterations.\n",
      "  \"the number of iterations.\", ConvergenceWarning)\n"
     ]
    },
    {
     "name": "stdout",
     "output_type": "stream",
     "text": [
      "END  1621318128.910383\n",
      "LinearSVC Time: 105.01924586296082  s\n",
      "Decision Tree\n",
      "START  1621318129.1978939\n",
      "END  1621318244.173294\n",
      "Decision Tree Time: 114.97540020942688  s\n",
      "Logistic Regression\n",
      "START  1621318244.204746\n"
     ]
    },
    {
     "name": "stderr",
     "output_type": "stream",
     "text": [
      "/Users/patriciaangelica/.pyenv/versions/3.7.3/lib/python3.7/site-packages/sklearn/linear_model/_logistic.py:764: ConvergenceWarning: lbfgs failed to converge (status=1):\n",
      "STOP: TOTAL NO. of ITERATIONS REACHED LIMIT.\n",
      "\n",
      "Increase the number of iterations (max_iter) or scale the data as shown in:\n",
      "    https://scikit-learn.org/stable/modules/preprocessing.html\n",
      "Please also refer to the documentation for alternative solver options:\n",
      "    https://scikit-learn.org/stable/modules/linear_model.html#logistic-regression\n",
      "  extra_warning_msg=_LOGISTIC_SOLVER_CONVERGENCE_MSG)\n"
     ]
    },
    {
     "name": "stdout",
     "output_type": "stream",
     "text": [
      "END  1621319806.146361\n",
      "Logistic Regression Time: 1561.9416151046753  s\n"
     ]
    }
   ],
   "source": [
    "from sklearn import svm\n",
    "from sklearn.naive_bayes import GaussianNB, MultinomialNB\n",
    "from sklearn.neighbors import KNeighborsClassifier\n",
    "from sklearn.tree import DecisionTreeClassifier\n",
    "from sklearn.linear_model import LogisticRegression\n",
    "import time\n",
    "from time import ctime\n",
    "models = [GaussianNB(),\n",
    "          MultinomialNB(),\n",
    "          svm.LinearSVC(),\n",
    "          DecisionTreeClassifier(),\n",
    "          LogisticRegression()]\n",
    "titles = ['GNB',\n",
    "          'MNB',\n",
    "          'LinearSVC',\n",
    "          'Decision Tree',\n",
    "          'Logistic Regression']\n",
    "\n",
    "# for title, model in zip(titles, models):\n",
    "#     print(title)\n",
    "#     start = time.time()\n",
    "#     print(\"START \",start)\n",
    "#     model.fit(train,y_train_raw)\n",
    "#     acc = model.score(test,y_test_raw)\n",
    "#     end = time.time()\n",
    "#     print(\"END \",end)\n",
    "#     t = end - start\n",
    "#     print(title, \"Accuracy:\",acc, 'Time:', t,\" s\")\n",
    "for title, model in zip(titles, models):\n",
    "    print(title)\n",
    "    start = time.time()\n",
    "    print(\"START \",start)\n",
    "    model.fit(train,y_train)\n",
    "    result = model.predict(test)\n",
    "    end = time.time()\n",
    "    print(\"END \",end)\n",
    "    t = end - start\n",
    "    print(title,'Time:', t,\" s\")\n",
    "    df_res_full = pd.DataFrame(result, columns = ['duration_label'])\n",
    "    df_res_full.index = df_res_full.index + 1\n",
    "    df_res_full.index.name='id'\n",
    "    df_res_full.to_csv('df_CV_res_'+title+'_full.csv')\n",
    "    \n",
    "# model = MultinomialNB().fit(train,y_train);\n",
    "# result = model.predict(test)\n",
    "# print(result.shape)\n",
    "# print(result)\n",
    "\n",
    "# df_res_MBN_full = pd.DataFrame(result, columns = ['duration_label'])\n",
    "# df_res_MBN_full.index = df_res_MBN_full.index + 1\n",
    "# df_res_MBN_full.index.name='id'\n",
    "# print(df_res_MBN_full )\n",
    "# df_res_MBN_full.to_csv('df_res_MBN_full.csv')\n"
   ]
  },
  {
   "cell_type": "code",
   "execution_count": 4,
   "id": "fitted-vienna",
   "metadata": {},
   "outputs": [],
   "source": [
    "from sklearn import svm\n",
    "from sklearn.naive_bayes import GaussianNB, MultinomialNB\n",
    "from sklearn.neighbors import KNeighborsClassifier\n",
    "from sklearn.tree import DecisionTreeClassifier\n",
    "from sklearn.linear_model import LogisticRegression\n",
    "import time\n",
    "from time import ctime"
   ]
  },
  {
   "cell_type": "code",
   "execution_count": 6,
   "id": "gross-universe",
   "metadata": {},
   "outputs": [
    {
     "name": "stdout",
     "output_type": "stream",
     "text": [
      "#1 STACKING META LEARNER - COUNT VEC: LOGISTIC REG , BASE: MNB, DT \n",
      "Base Learners: MNB & DT\n",
      "MNB\n",
      "START  1621327622.3678122\n",
      "END  1621327662.6144152\n",
      "MNB Time: 40.24660301208496  s\n",
      "Decision Tree\n",
      "START  1621327662.682423\n",
      "END  1621327779.821167\n",
      "Decision Tree Time: 117.13874387741089  s\n",
      "START meta learner: Logistic Regression  1621327779.8694882\n",
      "END meta learner: Logistic Regression  1621328006.0806808\n",
      "Time: 226.21119260787964  s\n"
     ]
    }
   ],
   "source": [
    "#STACKING FROM W8 Prac\n",
    "from sklearn.metrics import accuracy_score\n",
    "import numpy as np\n",
    "np.random.seed(1)\n",
    "\n",
    "class StackingClassifier():\n",
    "\n",
    "    def __init__(self, classifiers, metaclassifier):\n",
    "        self.classifiers = classifiers\n",
    "        self.metaclassifier = metaclassifier\n",
    "\n",
    "    def fit(self, X, y):\n",
    "        for clf in self.classifiers:\n",
    "            clf.fit(X, y)\n",
    "        X_meta = self._predict_base(X)\n",
    "        self.metaclassifier.fit(X_meta, y)\n",
    "    \n",
    "    def _predict_base(self, X):\n",
    "        yhats = []\n",
    "        for clf in self.classifiers:\n",
    "            yhat = clf.predict_proba(X)\n",
    "            yhats.append(yhat)\n",
    "        yhats = np.concatenate(yhats, axis=1)\n",
    "        assert yhats.shape[0] == X.shape[0]\n",
    "        return yhats\n",
    "    \n",
    "    def predict(self, X):\n",
    "        X_meta = self._predict_base(X)     \n",
    "        yhat = self.metaclassifier.predict(X_meta)\n",
    "        return yhat\n",
    "    def score(self, X, y):\n",
    "        yhat = self.predict(X)\n",
    "        return accuracy_score(y, yhat)\n",
    "    \n",
    "\n",
    "print(\"#1 STACKING META LEARNER - COUNT VEC: LOGISTIC REG , BASE: MNB, DT \")\n",
    "classifiers1 = [MultinomialNB(),\n",
    "          DecisionTreeClassifier()]\n",
    "titles1 = ['MNB',\n",
    "          'Decision Tree']\n",
    "\n",
    "meta_classifier_lr1 = LogisticRegression()\n",
    "stacker_lr1 = StackingClassifier(classifiers1, meta_classifier_lr1)\n",
    "\n",
    "print(\"Base Learners: MNB & DT\")\n",
    "for title, clf in zip(titles1, classifiers1):\n",
    "    print(title)\n",
    "    start = time.time()\n",
    "    print(\"START \",start)\n",
    "    clf.fit(train,y_train)\n",
    "    result = clf.predict(test)\n",
    "    end = time.time()\n",
    "    print(\"END \",end)\n",
    "    t = end - start\n",
    "    print(title,'Time:', t,\" s\")\n",
    "    df_res_full = pd.DataFrame(result, columns = ['duration_label'])\n",
    "    df_res_full.index = df_res_full.index + 1\n",
    "    df_res_full.index.name='id'\n",
    "    df_res_full.to_csv('df_CV_base_1_'+title+'.csv')\n",
    "\n",
    "start = time.time()\n",
    "print(\"START meta learner: Logistic Regression \",start)\n",
    "stacker_lr1.fit(train, y_train)\n",
    "stacker_lr1_res= stacker_lr1.predict(test)\n",
    "end = time.time()\n",
    "print(\"END meta learner: Logistic Regression \",end)\n",
    "t = end - start\n",
    "print('Time:', t,\" s\")\n",
    "df_res = pd.DataFrame(stacker_lr1_res, columns = ['duration_label'])\n",
    "df_res.index = df_res.index + 1\n",
    "df_res.index.name='id'\n",
    "df_res.to_csv('df_CV_stack1_Log_Reg.csv')\n",
    "\n"
   ]
  },
  {
   "cell_type": "code",
   "execution_count": null,
   "id": "industrial-teacher",
   "metadata": {},
   "outputs": [
    {
     "name": "stdout",
     "output_type": "stream",
     "text": [
      "FITTING\n"
     ]
    }
   ],
   "source": [
    "#MUTUAL INFORMATION\n",
    "from sklearn.feature_selection import SelectKBest, mutual_info_classif\n",
    "from matplotlib import pyplot\n",
    "\n",
    "mi = SelectKBest(score_func=mutual_info_classif, k=1000)\n",
    "print(\"FITTING\")\n",
    "X_train_mi = mi.fit_transform(df_train_name,y_train)\n",
    "# X_test_mi = mi.transform(test)\n",
    "\n",
    "# print(X_test_mi.shape, X_train_mi.shape)\n",
    "\n",
    "# for feat_num in mi.get_support(indices=True):\n",
    "#     print(df_train_name.columns[feat_num])\n",
    "#     print(vectoriser.get_feature_names()[feat_num])\n",
    "    \n",
    "for feat_num in mi.get_support(indices=True):\n",
    "    print(vocab_name.get_feature_names()[feat_num])\n",
    "    \n",
    "# pyplot.bar([i for i in range(len(mi.scores_))], mi.scores_)\n",
    "# pyplot.show()"
   ]
  }
 ],
 "metadata": {
  "kernelspec": {
   "display_name": "Python 3",
   "language": "python",
   "name": "python3"
  },
  "language_info": {
   "codemirror_mode": {
    "name": "ipython",
    "version": 3
   },
   "file_extension": ".py",
   "mimetype": "text/x-python",
   "name": "python",
   "nbconvert_exporter": "python",
   "pygments_lexer": "ipython3",
   "version": "3.7.3"
  }
 },
 "nbformat": 4,
 "nbformat_minor": 5
}
