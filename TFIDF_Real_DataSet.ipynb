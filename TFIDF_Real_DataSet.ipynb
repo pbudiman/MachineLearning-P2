{
 "metadata": {
  "language_info": {
   "codemirror_mode": {
    "name": "ipython",
    "version": 3
   },
   "file_extension": ".py",
   "mimetype": "text/x-python",
   "name": "python",
   "nbconvert_exporter": "python",
   "pygments_lexer": "ipython3",
   "version": "3.7.3"
  },
  "orig_nbformat": 2,
  "kernelspec": {
   "name": "python373jvsc74a57bd0d1736c05fe10e97bff6b3f226078a77ebc9caa91540e72cc2b3b64c309fda00b",
   "display_name": "Python 3.7.3 64-bit ('3.7.3': pyenv)"
  }
 },
 "nbformat": 4,
 "nbformat_minor": 2,
 "cells": [
  {
   "cell_type": "code",
   "execution_count": 11,
   "metadata": {},
   "outputs": [
    {
     "output_type": "stream",
     "name": "stdout",
     "text": [
      "(40000, 2906) (10000, 2906)\n"
     ]
    }
   ],
   "source": [
    "import pandas as pd\n",
    "from sklearn.feature_extraction.text import TfidfVectorizer\n",
    "\n",
    "train_file = \"./COMP30027_2021_Project2_datasets/recipe_train.csv\"\n",
    "test_file = \"./COMP30027_2021_Project2_datasets/recipe_test.csv\"\n",
    "\n",
    "train_data = pd.read_csv(train_file)\n",
    "X_train = train_data.iloc[:,:-1]\n",
    "y_train = train_data.iloc[:,-1]\n",
    "test_data = pd.read_csv(test_file)\n",
    "X_test = test_data.iloc[:,:]\n",
    "\n",
    "train_n_steps = pd.DataFrame(X_train.n_steps)\n",
    "train_n_steps.reset_index(drop=True, inplace=True)\n",
    "test_n_steps = pd.DataFrame(X_test.n_steps)\n",
    "test_n_steps.reset_index(drop=True, inplace=True)\n",
    "\n",
    "train_n_ingredients = pd.DataFrame(X_train.n_ingredients)\n",
    "train_n_ingredients.reset_index(drop=True, inplace=True)\n",
    "test_n_ingredients = pd.DataFrame(X_test.n_ingredients)\n",
    "test_n_ingredients.reset_index(drop=True, inplace=True)\n",
    "\n",
    "# tfidf vectorizer on feature 'name'\n",
    "vec = TfidfVectorizer(stop_words='english')\n",
    "X_train_name = vec.fit_transform(X_train.name)\n",
    "X_test_name = vec.transform(X_test.name)\n",
    "df_train_name = pd.DataFrame(X_train_name.todense(),columns = vec.get_feature_names())\n",
    "df_test_name = pd.DataFrame(X_test_name.todense(),columns = vec.get_feature_names())\n",
    "\n",
    "# tfidf vectorizer on feature 'steps'\n",
    "X_train_steps = vec.fit_transform(X_train.steps)\n",
    "X_test_steps = vec.transform(X_test.steps)\n",
    "df_train_steps = pd.DataFrame(X_train_steps.todense(),columns = vec.get_feature_names())\n",
    "df_test_steps = pd.DataFrame(X_test_steps.todense(),columns = vec.get_feature_names())\n",
    "\n",
    "# tfidf vectorizer on feature 'ingredients'\n",
    "X_train_ing = vec.fit_transform(X_train.ingredients)\n",
    "X_test_ing = vec.transform(X_test.ingredients)\n",
    "df_train_ing = pd.DataFrame(X_train_ing.todense(),columns = vec.get_feature_names())\n",
    "df_test_ing = pd.DataFrame(X_test_ing.todense(),columns = vec.get_feature_names())\n",
    "print(X_train_ing.shape, X_test_ing.shape)\n",
    "\n",
    "train = pd.concat([df_train_name, df_train_steps,df_train_ing,train_n_steps,train_n_ingredients],axis=1)\n",
    "test = pd.concat([df_test_name, df_test_steps,df_test_ing,test_n_steps,test_n_ingredients],axis=1)\n"
   ]
  },
  {
   "cell_type": "code",
   "execution_count": 5,
   "metadata": {},
   "outputs": [],
   "source": [
    "#STACKING FROM W8 Prac\n",
    "from sklearn.metrics import accuracy_score\n",
    "import numpy as np\n",
    "np.random.seed(1)\n",
    "\n",
    "class StackingClassifier():\n",
    "\n",
    "    def __init__(self, classifiers, metaclassifier):\n",
    "        self.classifiers = classifiers\n",
    "        self.metaclassifier = metaclassifier\n",
    "\n",
    "    def fit(self, X, y):\n",
    "        for clf in self.classifiers:\n",
    "            clf.fit(X, y)\n",
    "        X_meta = self._predict_base(X)\n",
    "        self.metaclassifier.fit(X_meta, y)\n",
    "    \n",
    "    def _predict_base(self, X):\n",
    "        yhats = []\n",
    "        for clf in self.classifiers:\n",
    "            yhat = clf.predict_proba(X)\n",
    "            yhats.append(yhat)\n",
    "        yhats = np.concatenate(yhats, axis=1)\n",
    "        assert yhats.shape[0] == X.shape[0]\n",
    "        return yhats\n",
    "    \n",
    "    def predict(self, X):\n",
    "        X_meta = self._predict_base(X)     \n",
    "        yhat = self.metaclassifier.predict(X_meta)\n",
    "        return yhat\n",
    "    def score(self, X, y):\n",
    "        yhat = self.predict(X)\n",
    "        return accuracy_score(y, yhat)"
   ]
  },
  {
   "source": [
    "### Individual Classifiers - Full Features"
   ],
   "cell_type": "markdown",
   "metadata": {}
  },
  {
   "cell_type": "code",
   "execution_count": null,
   "metadata": {},
   "outputs": [],
   "source": [
    "from sklearn import svm\n",
    "from sklearn.naive_bayes import GaussianNB, MultinomialNB\n",
    "from sklearn.neighbors import KNeighborsClassifier\n",
    "from sklearn.tree import DecisionTreeClassifier\n",
    "from sklearn.linear_model import LogisticRegression\n",
    "import time\n",
    "from time import ctime\n",
    "\n",
    "models = [MultinomialNB(),\n",
    "          svm.LinearSVC(),\n",
    "          DecisionTreeClassifier(),\n",
    "          LogisticRegression()]\n",
    "titles = ['MNB',\n",
    "          'LinearSVC',\n",
    "          'Decision Tree',\n",
    "          'Logistic Regression']\n",
    "\n",
    "for title, model in zip(titles, models):\n",
    "    print(title)\n",
    "    start = time.time()\n",
    "    print(\"START \",start)\n",
    "    model.fit(train,y_train)\n",
    "    result = model.predict(test)\n",
    "    end = time.time()\n",
    "    print(\"END \",end)\n",
    "    t = end - start\n",
    "    print(title,'Time:', t,\" s\")\n",
    "    df_res_full = pd.DataFrame(result, columns = ['duration_label'])\n",
    "    df_res_full.index = df_res_full.index + 1\n",
    "    df_res_full.index.name='id'\n",
    "    df_res_full.to_csv('df_TFIDF_res_'+title+'_full.csv')"
   ]
  },
  {
   "source": [
    "### Stacking - Full Features"
   ],
   "cell_type": "markdown",
   "metadata": {}
  },
  {
   "cell_type": "code",
   "execution_count": 10,
   "metadata": {},
   "outputs": [
    {
     "output_type": "stream",
     "name": "stdout",
     "text": [
      "Meta learner: Logistic Regression - Start  1621493153.48095\n",
      "Meta learner: Logistic Regression - End  1621493459.975463\n"
     ]
    }
   ],
   "source": [
    "# Meta Learner : Logistic Regression \n",
    "# Base Learners : DT + MNB\n",
    "from sklearn import svm\n",
    "from sklearn.naive_bayes import MultinomialNB\n",
    "from sklearn.neighbors import KNeighborsClassifier\n",
    "from sklearn.tree import DecisionTreeClassifier\n",
    "from sklearn.linear_model import LogisticRegression\n",
    "import time\n",
    "from time import ctime\n",
    "\n",
    "classifiers = [MultinomialNB(),\n",
    "          DecisionTreeClassifier()]\n",
    "\n",
    "titles = ['MNB',\n",
    "          'Decision Tree']\n",
    "\n",
    "meta_classifier_lr = LogisticRegression()\n",
    "stacker_lr = StackingClassifier(classifiers, meta_classifier_lr)\n",
    "start = time.time()\n",
    "print(\"Meta learner: Logistic Regression - Start \",start)\n",
    "stacker_lr.fit(train,y_train)\n",
    "acc = stacker_lr.predict(test)\n",
    "end = time.time()\n",
    "print(\"Meta learner: Logistic Regression - End \",end)\n",
    "df_res = pd.DataFrame(stacker_lr_res, columns = ['duration_label'])\n",
    "df_res.index = df_res.index + 1\n",
    "df_res.index.name='id'\n",
    "df_res.to_csv('df_TFIDF_stack1_Log_Reg.csv')"
   ]
  },
  {
   "cell_type": "code",
   "execution_count": null,
   "metadata": {},
   "outputs": [],
   "source": [
    "# Meta Learner : Logistic Regression \n",
    "# Base Learners : DT + MNB + LogReg\n",
    "from sklearn import svm\n",
    "from sklearn.naive_bayes import GaussianNB, MultinomialNB\n",
    "from sklearn.neighbors import KNeighborsClassifier\n",
    "from sklearn.tree import DecisionTreeClassifier\n",
    "from sklearn.linear_model import LogisticRegression\n",
    "import time\n",
    "from time import ctime\n",
    "\n",
    "classifiers = [MultinomialNB(),\n",
    "                DecisionTreeClassifier(),\n",
    "                LogisticRegression()]\n",
    "\n",
    "titles = ['MNB',\n",
    "          'Decision Tree',\n",
    "          'Logistic Regression']\n",
    "\n",
    "meta_classifier_lr = LogisticRegression()\n",
    "stacker_lr = StackingClassifier(classifiers, meta_classifier_lr)\n",
    "start = time.time()\n",
    "print(\"Meta learner: Logistic Regression - Start \",start)\n",
    "stacker_lr.fit(X_train_kbest_chi2, y_train)\n",
    "stacker_lr_res = stacker_lr.predict(X_test_kbest_chi2)\n",
    "end = time.time()\n",
    "print(\"Meta learner: Logistic Regression - End \",end)\n",
    "df_res = pd.DataFrame(stacker_lr_res, columns = ['duration_label'])\n",
    "df_res.index = df_res.index + 1\n",
    "df_res.index.name='id'\n",
    "df_res.to_csv('df_TFIDF_stack2_Log_Reg.csv')\n"
   ]
  },
  {
   "source": [
    "### Chi SQUARE"
   ],
   "cell_type": "markdown",
   "metadata": {}
  },
  {
   "cell_type": "code",
   "execution_count": 3,
   "metadata": {},
   "outputs": [],
   "source": [
    "from sklearn import svm\n",
    "from sklearn.naive_bayes import MultinomialNB\n",
    "from sklearn.neighbors import KNeighborsClassifier\n",
    "from sklearn.tree import DecisionTreeClassifier\n",
    "from sklearn.linear_model import LogisticRegression\n",
    "from sklearn.feature_selection import SelectKBest, chi2\n",
    "import time\n",
    "from time import ctime\n",
    "\n",
    "kbest_chi2 = SelectKBest(chi2, k=1000).fit(train, y_train)\n",
    "X_train_kbest_chi2 = kbest_chi2.transform(train)\n",
    "X_test_kbest_chi2 = kbest_chi2.transform(test)\n"
   ]
  },
  {
   "cell_type": "code",
   "execution_count": 5,
   "metadata": {},
   "outputs": [
    {
     "output_type": "stream",
     "name": "stdout",
     "text": [
      "(10000, 1000)\n"
     ]
    }
   ],
   "source": [
    "print(X_test_kbest_chi2.shape)"
   ]
  },
  {
   "source": [
    "### Individual Classifiers - CHI SQUARE"
   ],
   "cell_type": "markdown",
   "metadata": {}
  },
  {
   "cell_type": "code",
   "execution_count": 6,
   "metadata": {},
   "outputs": [
    {
     "output_type": "stream",
     "name": "stdout",
     "text": [
      "MNB\n",
      "START  1621488417.983844\n",
      "END  1621488418.305278\n",
      "MNB Time: 0.32143402099609375  s\n",
      "LinearSVC\n",
      "START  1621488418.4049962\n",
      "/Users/patriciaangelica/.pyenv/versions/3.7.3/lib/python3.7/site-packages/sklearn/svm/_base.py:977: ConvergenceWarning: Liblinear failed to converge, increase the number of iterations.\n",
      "  \"the number of iterations.\", ConvergenceWarning)\n",
      "END  1621488444.601591\n",
      "LinearSVC Time: 26.196594953536987  s\n",
      "Decision Tree\n",
      "START  1621488444.627907\n",
      "END  1621488455.3915179\n",
      "Decision Tree Time: 10.76361083984375  s\n",
      "Logistic Regression\n",
      "START  1621488455.417143\n",
      "END  1621488466.530126\n",
      "Logistic Regression Time: 11.112982988357544  s\n",
      "/Users/patriciaangelica/.pyenv/versions/3.7.3/lib/python3.7/site-packages/sklearn/linear_model/_logistic.py:764: ConvergenceWarning: lbfgs failed to converge (status=1):\n",
      "STOP: TOTAL NO. of ITERATIONS REACHED LIMIT.\n",
      "\n",
      "Increase the number of iterations (max_iter) or scale the data as shown in:\n",
      "    https://scikit-learn.org/stable/modules/preprocessing.html\n",
      "Please also refer to the documentation for alternative solver options:\n",
      "    https://scikit-learn.org/stable/modules/linear_model.html#logistic-regression\n",
      "  extra_warning_msg=_LOGISTIC_SOLVER_CONVERGENCE_MSG)\n"
     ]
    }
   ],
   "source": [
    "# Predict using each individual classifiers\n",
    "models = [MultinomialNB(),\n",
    "          svm.LinearSVC(),\n",
    "          DecisionTreeClassifier(),\n",
    "          LogisticRegression()]\n",
    "titles = ['MNB',\n",
    "          'LinearSVC',\n",
    "          'Decision Tree',\n",
    "          'Logistic Regression']\n",
    "\n",
    "for title, model in zip(titles, models):\n",
    "    print(title)\n",
    "    start = time.time()\n",
    "    print(\"START \",start)\n",
    "    model.fit(X_train_kbest_chi2,y_train)\n",
    "    result = model.predict(X_test_kbest_chi2)\n",
    "    end = time.time()\n",
    "    print(\"END \",end)\n",
    "    t = end - start\n",
    "    print(title,'Time:', t,\" s\")\n",
    "    df_res_full = pd.DataFrame(result, columns = ['duration_label'])\n",
    "    df_res_full.index = df_res_full.index + 1\n",
    "    df_res_full.index.name='id'\n",
    "    df_res_full.to_csv('df_TFIDF_res_chi2_'+title+'.csv')\n",
    "    "
   ]
  },
  {
   "source": [
    "### Stacking - CHI SQUARE"
   ],
   "cell_type": "markdown",
   "metadata": {}
  },
  {
   "cell_type": "code",
   "execution_count": 7,
   "metadata": {},
   "outputs": [
    {
     "output_type": "stream",
     "name": "stdout",
     "text": [
      "Meta learner: Logistic Regression - Start  1621492429.1554098\n",
      "Meta learner: Logistic Regression - End  1621492443.7227619\n"
     ]
    }
   ],
   "source": [
    "# Meta Learner : Logistic Regression \n",
    "# Base Learners : DT + MNB\n",
    "classifiers = [MultinomialNB(),\n",
    "          DecisionTreeClassifier()]\n",
    "\n",
    "titles = ['MNB',\n",
    "          'Decision Tree']\n",
    "\n",
    "meta_classifier_lr = LogisticRegression()\n",
    "stacker_lr = StackingClassifier(classifiers, meta_classifier_lr)\n",
    "start = time.time()\n",
    "print(\"Meta learner: Logistic Regression - Start \",start)\n",
    "stacker_lr.fit(X_train_kbest_chi2,y_train)\n",
    "stacker_lr_res = stacker_lr.predict(X_test_kbest_chi2)\n",
    "end = time.time()\n",
    "print(\"Meta learner: Logistic Regression - End \",end)\n",
    "df_res = pd.DataFrame(stacker_lr_res, columns = ['duration_label'])\n",
    "df_res.index = df_res.index + 1\n",
    "df_res.index.name='id'\n",
    "df_res.to_csv('df_TFIDF_chi2_stack1_Log_Reg.csv')"
   ]
  },
  {
   "cell_type": "code",
   "execution_count": null,
   "metadata": {},
   "outputs": [],
   "source": [
    "# Meta Learner : Logistic Regression \n",
    "# Base Learners : DT + MNB + Log Reg\n",
    "classifiers = [MultinomialNB(),\n",
    "          DecisionTreeClassifier(),\n",
    "          LogisticRegression()]\n",
    "\n",
    "titles = ['MNB',\n",
    "          'Decision Tree',\n",
    "          'Logistic Regression']\n",
    "\n",
    "meta_classifier_lr = LogisticRegression()\n",
    "stacker_lr = StackingClassifier(classifiers, meta_classifier_lr)\n",
    "start = time.time()\n",
    "print(\"Meta learner: Logistic Regression - Start \",start)\n",
    "stacker_lr.fit(X_train_kbest_chi2,y_train)\n",
    "stacker_lr_res = stacker_lr1.predict(X_test_kbest_chi2)\n",
    "end = time.time()\n",
    "print(\"Meta learner: Logistic Regression - End \",end)\n",
    "df_res = pd.DataFrame(stacker_lr_res, columns = ['duration_label'])\n",
    "df_res.index = df_res.index + 1\n",
    "df_res.index.name='id'\n",
    "df_res.to_csv('df_TFIDF_chi2_stack2_Log_Reg.csv')"
   ]
  }
 ]
}